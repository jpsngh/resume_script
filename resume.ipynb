from fpdf import FPDF

class GoogleStylePDFResume(FPDF):
    def header(self):
        # Main Header (Name in light blue/green color)
        self.set_text_color(0, 128, 128)  # Light teal color for the name
        self.set_font("Arial", "B", 20)
        self.cell(0, 10, "JAGANPREET SINGH", ln=True, align="L")
        
        # Subtitle in gray
        self.set_text_color(100, 100, 100)
        self.set_font("Arial", "I", 12)
        self.cell(0, 10, "Aspiring Special Constable", ln=True, align="L")
        self.ln(2)  # Minimal spacing

    def add_section(self, title, content, is_list=False):
        # Section Title with a horizontal line underneath
        self.set_text_color(0, 0, 0)
        self.set_font("Arial", "B", 12)
        self.cell(0, 8, title, ln=True)
        self.line(10, self.get_y(), 200, self.get_y())  # Horizontal line under section title
        self.set_font("Arial", "", 10)
        self.ln(1)  # Minimal spacing after line

        # Section Content
        if is_list:
            for item in content:
                self.cell(0, 6, f"- {item}", ln=True)
        else:
            self.multi_cell(0, 6, content)
        self.ln(1)  # Reduced spacing for fitting

    def add_experience(self, job_title, company_info, duties):
        # Job Title and Company Info on the same line
        self.set_font("Arial", "B", 10)
        self.cell(0, 6, job_title, ln=True)
        self.set_font("Arial", "I", 10)
        self.cell(0, 6, company_info, ln=True)
        
        # Duties with minimal spacing
        self.set_font("Arial", "", 10)
        for duty in duties:
            self.cell(0, 5, f"- {duty}", ln=True)  # Reduced spacing between duties
        self.ln(1)  # Minimal spacing between job entries

    def add_contact_info(self, phone, email,linkedIn):
        # Contact Information in a single line
        self.set_font("Arial", "I", 10)
        self.set_text_color(50, 50, 50)
        # Underline for link appearance
       
        self.cell(0, 8, f"Phone: {phone} | Email: {email} " , ln=True, align="L")
        self.cell(0, 8, "LinkedIn: https://linkedin.com/in/jpsngh", ln=True, link=linkedIn)
        self.ln(1)  # Minimal spacing

# Create the PDF
pdf = GoogleStylePDFResume()
pdf.add_page()

# Contact Info
pdf.add_contact_info("647-979-9596", "preet.jagansngh@gmail.com","https://www.linkedin.com/in/jpsngh/")

# Professional Summary
summary = (
    "Dedicated professional with three years of experience in security supervision and technical support. "
    "Proven ability to maintain safety and ensure operational efficiency in high-pressure environments. "
    "Committed to public service, with strong communication and critical-thinking skills. Seeking a role as "
    "a Special Constable with the City to expand my skills in law enforcement and public safety."
)
pdf.add_section("Professional Summary", summary)

# Professional Experience
pdf.add_section("Professional Experience", "")
pdf.add_experience("Security Supervisor", "Ultimate Security | Toronto | 2022 - Present", [
    "Supervised security team, overseeing patrols and ensuring coverage.",
    "Managed access control, monitored surveillance, and conducted audits.",
    "Responded to emergencies, coordinating with law enforcement.",
    "Trained team on conflict de-escalation and emergency protocols.",
    "Interacted professionally with the public, providing instructions."
])

pdf.add_experience("Technical Support Specialist", "LTE Mindtree | India | 2020 - 2021", [
    "Provided first-line technical support, diagnosing client issues.",
    "Troubleshot network, software, and hardware problems.",
    "Logged client interactions, documenting solutions.",
    "Collaborated with engineering to resolve system bugs."
])

# Certifications
certifications = [
    "Ontario Security Guard Certification",
    "First Aid & CPR Certification - Red Cross",
    "Conflict Management and Resolution Training",
    "Workplace Safety and Security Certification",
    "Basic Law Enforcement Principles (online certification)"
]
pdf.add_section("Certifications", certifications, is_list=True)

# Skills
skills = [
    "Security & Surveillance: CCTV monitoring, access control, emergency response",
    "Technical Support: Troubleshooting, system diagnostics, user training",
    "Communication: Report writing, effective verbal communication",
    "Team Leadership: Training, supervising, mentoring",
    "Tools & Software: Security systems, Microsoft Office"
]
pdf.add_section("Skills", skills, is_list=True)

# Education
education = [
    "Bachelor of Technology (B.Tech) in Computer Science, Jammu University, India",
    "Diploma in Project Management, Canadore College, Canada"
]
pdf.add_section("Education", education, is_list=True)

# Save the PDF
pdf.output("Jaganpreet_Resume.pdf")
print("Resume saved as 'ganpreet_Singh_Resume.pdf'")
